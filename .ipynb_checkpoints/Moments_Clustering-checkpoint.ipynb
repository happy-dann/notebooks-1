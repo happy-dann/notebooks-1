{
 "metadata": {
  "name": "",
  "signature": "sha256:a63101f620f85cce84d746dac20d727456c17e2b0de50240e47606d6dd04a05b"
 },
 "nbformat": 3,
 "nbformat_minor": 0,
 "worksheets": []
}
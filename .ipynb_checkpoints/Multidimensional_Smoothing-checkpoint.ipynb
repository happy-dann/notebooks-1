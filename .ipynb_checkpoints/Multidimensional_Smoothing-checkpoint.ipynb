{
 "metadata": {
  "name": ""
 },
 "nbformat": 3,
 "nbformat_minor": 0,
 "worksheets": [
  {
   "cells": [
    {
     "cell_type": "markdown",
     "metadata": {},
     "source": [
      "# Applying an operation to an array of timeseries\n",
      "\n",
      "NOTE: This didn't give the expected result - requires further investigation!\n",
      "\n",
      "A common problem ecountered in climate science is the need to apply some operation to an array of timeseries. These timeseries are usually arrange on a latitude-longitude(-level) grid. In this example we look a smoothing operation. \n",
      "\n",
      "The traditional approach to do this is to loop over each gridpoint, and apply the operation many times. Unfortunately this is very slow in python, so the aim here is to try and find a faster method \n",
      "\n",
      "First let's read in some example data..."
     ]
    },
    {
     "cell_type": "code",
     "collapsed": false,
     "input": [
      "from netCDF4 import Dataset\n",
      "import matplotlib.pyplot as plt\n",
      "%matplotlib inline\n",
      "import numpy as np\n",
      "import smooth # http://wiki.scipy.org/Cookbook/SignalSmooth\n",
      "\n",
      "# This test data is ERA-Interim surface temperature over some region\n",
      "ncin = Dataset('/home/will/data/ERA_INTERIM/T/era-int_T_DJFM.nc', 'r')\n",
      "T = ncin.variables['t'][:]\n",
      "lons = ncin.variables['longitude'][:]\n",
      "lats = ncin.variables['latitude'][:]\n",
      "ncin.close()\n"
     ],
     "language": "python",
     "metadata": {},
     "outputs": [],
     "prompt_number": 1
    },
    {
     "cell_type": "markdown",
     "metadata": {},
     "source": [
      "Now define our smoothing functions:\n",
      "\n",
      "- `slow_smoothing`: uses a `for` loop over each gridpoint\n",
      "- `fast_smoothing`: reduces the array to two-dimensions (time and space) and uses `np.apply_along_axis` on the time dimension. The array can then be rebuilt."
     ]
    },
    {
     "cell_type": "code",
     "collapsed": false,
     "input": [
      "def slow_smoothing():\n",
      "    T_smooth = np.empty(T.shape)\n",
      "    for ilon in range(len(lons)-1):\n",
      "        for ilat in range(len(lats)-1):\n",
      "            T_smooth[:,ilat,ilon] = smooth.smooth(T[:,ilat,ilon])\n",
      "    return T_smooth\n",
      "\n",
      "def fast_smoothing(): \n",
      "    tmp = np.reshape(T, (T.shape[0], np.multiply.reduce(T.shape[1:])))\n",
      "    T_smooth = np.apply_along_axis(smooth.smooth, 0, T)\n",
      "    T_smooth = T_smooth.reshape((T.shape[0],) + T.shape[1:]) \n",
      "    return T_smooth"
     ],
     "language": "python",
     "metadata": {},
     "outputs": [],
     "prompt_number": 2
    },
    {
     "cell_type": "markdown",
     "metadata": {},
     "source": [
      "Let's check how fast they are..."
     ]
    },
    {
     "cell_type": "code",
     "collapsed": false,
     "input": [
      "%timeit slow_smoothing()"
     ],
     "language": "python",
     "metadata": {},
     "outputs": [
      {
       "output_type": "stream",
       "stream": "stdout",
       "text": [
        "1 loops, best of 3: 11.2 s per loop\n"
       ]
      }
     ],
     "prompt_number": 3
    },
    {
     "cell_type": "code",
     "collapsed": false,
     "input": [
      "%timeit fast_smoothing()"
     ],
     "language": "python",
     "metadata": {},
     "outputs": [
      {
       "output_type": "stream",
       "stream": "stdout",
       "text": [
        "1 loops, best of 3: 10.6 s per loop\n"
       ]
      }
     ],
     "prompt_number": 4
    },
    {
     "cell_type": "markdown",
     "metadata": {},
     "source": [
      "That's surprising! `fast_smoothing` was definitely faster when I was applying it to the CMIP5 models... Maybe this has something to do with the number of dimensions/size of arrays?\n",
      "\n",
      "Now just make sure they're doing the right thing:"
     ]
    },
    {
     "cell_type": "code",
     "collapsed": false,
     "input": [
      "plt.subplot(121)\n",
      "plt.plot(slow_smoothing()[0:50,0,0])\n",
      "plt.subplot(122)\n",
      "plt.plot(fast_smoothing()[0:50,0,0])"
     ],
     "language": "python",
     "metadata": {},
     "outputs": [
      {
       "metadata": {},
       "output_type": "pyout",
       "prompt_number": 7,
       "text": [
        "[<matplotlib.lines.Line2D at 0x2f58890>]"
       ]
      },
      {
       "metadata": {},
       "output_type": "display_data",
       "png": "[encoded data removed]",
       "text": [
        "<matplotlib.figure.Figure at 0x2c00c50>"
       ]
      }
     ],
     "prompt_number": 7
    },
    {
     "cell_type": "code",
     "collapsed": false,
     "input": [
      "T.shape"
     ],
     "language": "python",
     "metadata": {},
     "outputs": [
      {
       "metadata": {},
       "output_type": "pyout",
       "prompt_number": 6,
       "text": [
        "(3849, 121, 240)"
       ]
      }
     ],
     "prompt_number": 6
    },
    {
     "cell_type": "code",
     "collapsed": false,
     "input": [],
     "language": "python",
     "metadata": {},
     "outputs": [],
     "prompt_number": 6
    }
   ],
   "metadata": {}
  }
 ]
}